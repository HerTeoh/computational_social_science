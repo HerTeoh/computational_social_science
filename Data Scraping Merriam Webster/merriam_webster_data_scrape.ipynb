{
 "cells": [
  {
   "cell_type": "markdown",
   "metadata": {},
   "source": [
    "# Merriam Webster Data Scrape"
   ]
  },
  {
   "cell_type": "markdown",
   "metadata": {},
   "source": [
    "In this project, I am connecting to the Merriam Webster Dictionary API (https://dictionaryapi.com/) in order to compile information on the words used in Chapters 1-5 of Pride and Prejudice by Jane Austen."
   ]
  },
  {
   "cell_type": "markdown",
   "metadata": {},
   "source": [
    "## Libraries"
   ]
  },
  {
   "cell_type": "code",
   "execution_count": 64,
   "metadata": {
    "collapsed": true
   },
   "outputs": [],
   "source": [
    "# regular expressions library used to remove punctuation from the chapters\n",
    "import re\n",
    "# json library used to read the data returned by the api\n",
    "import json\n",
    "# sqlite3 library to create and query from sql database\n",
    "import sqlite3\n",
    "# requests library used to connect to the api\n",
    "import requests\n",
    "# numpy library used to fill in the empty gaps when information was not present\n",
    "import numpy as np\n",
    "# pandas library used to format the data into a neat dataframe\n",
    "import pandas as pd\n",
    "# nltk, more specifically stopwords, used to identify and remove stopwords from the corpus\n",
    "from nltk.corpus import stopwords\n",
    "#pyplot is used to plot some data visualisations\n",
    "import matplotlib.pyplot as plt\n",
    "\n",
    "%matplotlib inline"
   ]
  },
  {
   "cell_type": "markdown",
   "metadata": {},
   "source": [
    "## Load + Clean Chapter 1-5 of Pride and Prejudice"
   ]
  },
  {
   "cell_type": "code",
   "execution_count": 2,
   "metadata": {},
   "outputs": [
    {
     "data": {
      "text/plain": [
       "2695"
      ]
     },
     "execution_count": 2,
     "metadata": {},
     "output_type": "execute_result"
    }
   ],
   "source": [
    "'''\n",
    "Loads in Pride and Prejudice Chapter 1 - 5.\n",
    "Removes new lines, punctuation, and stopwords.\n",
    "Splits single string into list of words.\n",
    "'''\n",
    "with open('Pride and Prejudice Chapters.txt', 'r') as myfile:\n",
    "    text=myfile.read().replace('\\n', ' ')\n",
    "    \n",
    "text = re.sub(r'[^\\w\\s]','',text)\n",
    "word_list = text.split()\n",
    "filtered_words = [word for word in word_list if word not in stopwords.words('english')]\n",
    "\n",
    "len(filtered_words)"
   ]
  },
  {
   "cell_type": "markdown",
   "metadata": {},
   "source": [
    "## Dictionary Search Function"
   ]
  },
  {
   "cell_type": "code",
   "execution_count": 5,
   "metadata": {
    "collapsed": true
   },
   "outputs": [],
   "source": [
    "'''\n",
    "The dict_search function hits MERRIAM-WEBSTER'S COLLEGIATE® DICTIONARY WITH AUDIO\n",
    "(https://dictionaryapi.com/products/api-collegiate-dictionary)\n",
    "'''\n",
    "def dict_search(word):\n",
    "    url = \"https://www.dictionaryapi.com/api/v3/references/collegiate/json/\"\n",
    "    word = word\n",
    "    key = \"?key=INSERT-YOUR-ACCESS-KEY-HERE\"\n",
    "    req = requests.get(url+word+key)\n",
    "    cont = json.loads(req.content)\n",
    "    return cont"
   ]
  },
  {
   "cell_type": "markdown",
   "metadata": {},
   "source": [
    "## Collecting syllables, noun_verb_adjective, and offensive"
   ]
  },
  {
   "cell_type": "code",
   "execution_count": 9,
   "metadata": {
    "collapsed": true
   },
   "outputs": [],
   "source": [
    "'''\n",
    "Uses the dict_search function to request for information on each word in the\n",
    "filtered_word list of Chapters 1-5 of Preide and Prejudice by Jane Austen.\n",
    "Going through, it saves three pieces of information: (1) The number of\n",
    "syllables in each word, (2) whether it is a noun, verb, adjective, pronoun,\n",
    "and (3) whether it is classified as offensive.\n",
    "'''\n",
    "syllables = []\n",
    "noun_verb_adjective = []\n",
    "offensive = []\n",
    "\n",
    "for word in filtered_words:\n",
    "    temp = dict_search(word)\n",
    "    try:\n",
    "        syllables.append(temp[0]['hwi']['hw'].count('*')+1)\n",
    "    except:\n",
    "        syllables.append(np.nan)\n",
    "    try:\n",
    "        noun_verb_adjective.append(temp[0]['fl'])\n",
    "    except:\n",
    "        noun_verb_adjective.append(np.nan)\n",
    "    try:\n",
    "        offensive.append(temp[0]['meta']['offensive'])\n",
    "    except:\n",
    "        offensive.append(np.nan)"
   ]
  },
  {
   "cell_type": "code",
   "execution_count": 10,
   "metadata": {},
   "outputs": [
    {
     "data": {
      "text/html": [
       "<div>\n",
       "<style>\n",
       "    .dataframe thead tr:only-child th {\n",
       "        text-align: right;\n",
       "    }\n",
       "\n",
       "    .dataframe thead th {\n",
       "        text-align: left;\n",
       "    }\n",
       "\n",
       "    .dataframe tbody tr th {\n",
       "        vertical-align: top;\n",
       "    }\n",
       "</style>\n",
       "<table border=\"1\" class=\"dataframe\">\n",
       "  <thead>\n",
       "    <tr style=\"text-align: right;\">\n",
       "      <th></th>\n",
       "      <th>word</th>\n",
       "      <th>syllables</th>\n",
       "      <th>noun_verb_adjective</th>\n",
       "      <th>offensive</th>\n",
       "    </tr>\n",
       "  </thead>\n",
       "  <tbody>\n",
       "    <tr>\n",
       "      <th>0</th>\n",
       "      <td>It</td>\n",
       "      <td>1</td>\n",
       "      <td>pronoun</td>\n",
       "      <td>False</td>\n",
       "    </tr>\n",
       "    <tr>\n",
       "      <th>1</th>\n",
       "      <td>truth</td>\n",
       "      <td>1</td>\n",
       "      <td>noun</td>\n",
       "      <td>False</td>\n",
       "    </tr>\n",
       "    <tr>\n",
       "      <th>2</th>\n",
       "      <td>universally</td>\n",
       "      <td>3</td>\n",
       "      <td>adjective</td>\n",
       "      <td>False</td>\n",
       "    </tr>\n",
       "    <tr>\n",
       "      <th>3</th>\n",
       "      <td>acknowledged</td>\n",
       "      <td>3</td>\n",
       "      <td>adjective</td>\n",
       "      <td>False</td>\n",
       "    </tr>\n",
       "    <tr>\n",
       "      <th>4</th>\n",
       "      <td>single</td>\n",
       "      <td>2</td>\n",
       "      <td>adjective</td>\n",
       "      <td>False</td>\n",
       "    </tr>\n",
       "  </tbody>\n",
       "</table>\n",
       "</div>"
      ],
      "text/plain": [
       "           word syllables noun_verb_adjective offensive\n",
       "0            It         1             pronoun     False\n",
       "1         truth         1                noun     False\n",
       "2   universally         3           adjective     False\n",
       "3  acknowledged         3           adjective     False\n",
       "4        single         2           adjective     False"
      ]
     },
     "execution_count": 10,
     "metadata": {},
     "output_type": "execute_result"
    }
   ],
   "source": [
    "'''\n",
    "Formats the four lists into a dataframe.\n",
    "Each row represents a word and the columns are defined\n",
    "as the (1) word, (2) number of syllables, (3) noun, verb,\n",
    "pronoun, or adjective, and (4) whether it is offensive.\n",
    "'''\n",
    "p_and_p = pd.DataFrame([filtered_words, syllables, noun_verb_adjective, offensive]).T\n",
    "p_and_p.columns = ['word', 'syllables', 'noun_verb_adjective', 'offensive']\n",
    "p_and_p.head()"
   ]
  },
  {
   "cell_type": "code",
   "execution_count": 11,
   "metadata": {},
   "outputs": [
    {
     "data": {
      "text/plain": [
       "2695"
      ]
     },
     "execution_count": 11,
     "metadata": {},
     "output_type": "execute_result"
    }
   ],
   "source": [
    "len(p_and_p)"
   ]
  },
  {
   "cell_type": "code",
   "execution_count": 14,
   "metadata": {
    "collapsed": true
   },
   "outputs": [],
   "source": [
    "'''\n",
    "Function to create sql database from dataframe if database does not\n",
    "already exist.\n",
    "'''\n",
    "def df2sqlite(dataframe, db_name = \"import.sqlite\", tbl_name = \"import\"):\n",
    " \n",
    "  conn=sqlite3.connect(db_name)\n",
    "  cur = conn.cursor()                                 \n",
    " \n",
    "  wildcards = ','.join(['?'] * len(dataframe.columns))              \n",
    "  data = [tuple(x) for x in dataframe.values]\n",
    " \n",
    "  cur.execute(\"drop table if exists %s\" % tbl_name)\n",
    " \n",
    "  col_str = '\"' + '\",\"'.join(dataframe.columns) + '\"'\n",
    "  cur.execute(\"create table %s (%s)\" % (tbl_name, col_str))\n",
    " \n",
    "  cur.executemany(\"insert into %s values(%s)\" % (tbl_name, wildcards), data)\n",
    " \n",
    "  conn.commit()\n",
    "  conn.close()"
   ]
  },
  {
   "cell_type": "code",
   "execution_count": 15,
   "metadata": {
    "collapsed": true
   },
   "outputs": [],
   "source": [
    "df2sqlite(p_and_p, 'p_and_p.sqlite', 'words')"
   ]
  },
  {
   "cell_type": "code",
   "execution_count": 16,
   "metadata": {
    "collapsed": true
   },
   "outputs": [],
   "source": [
    "'''\n",
    "Connecting with the database to retrieve the entire table of words\n",
    "'''\n",
    "conn = sqlite3.connect('p_and_p.sqlite')\n",
    "sqlite_results = pd.read_sql_query('SELECT * '\n",
    "                       'FROM words '\n",
    "                       ,conn)\n",
    "results = pd.DataFrame(sqlite_results)\n",
    "len(results)"
   ]
  },
  {
   "cell_type": "code",
   "execution_count": 24,
   "metadata": {},
   "outputs": [
    {
     "data": {
      "text/plain": [
       "numpy.float64"
      ]
     },
     "execution_count": 24,
     "metadata": {},
     "output_type": "execute_result"
    }
   ],
   "source": [
    "results['offensive'] = results['offensive'].astype(bool)"
   ]
  },
  {
   "cell_type": "code",
   "execution_count": 29,
   "metadata": {},
   "outputs": [
    {
     "data": {
      "text/html": [
       "<div>\n",
       "<style>\n",
       "    .dataframe thead tr:only-child th {\n",
       "        text-align: right;\n",
       "    }\n",
       "\n",
       "    .dataframe thead th {\n",
       "        text-align: left;\n",
       "    }\n",
       "\n",
       "    .dataframe tbody tr th {\n",
       "        vertical-align: top;\n",
       "    }\n",
       "</style>\n",
       "<table border=\"1\" class=\"dataframe\">\n",
       "  <thead>\n",
       "    <tr style=\"text-align: right;\">\n",
       "      <th></th>\n",
       "      <th>word</th>\n",
       "      <th>syllables</th>\n",
       "      <th>noun_verb_adjective</th>\n",
       "      <th>offensive</th>\n",
       "    </tr>\n",
       "  </thead>\n",
       "  <tbody>\n",
       "    <tr>\n",
       "      <th>0</th>\n",
       "      <td>It</td>\n",
       "      <td>1.0</td>\n",
       "      <td>pronoun</td>\n",
       "      <td>False</td>\n",
       "    </tr>\n",
       "    <tr>\n",
       "      <th>1</th>\n",
       "      <td>truth</td>\n",
       "      <td>1.0</td>\n",
       "      <td>noun</td>\n",
       "      <td>False</td>\n",
       "    </tr>\n",
       "    <tr>\n",
       "      <th>2</th>\n",
       "      <td>universally</td>\n",
       "      <td>3.0</td>\n",
       "      <td>adjective</td>\n",
       "      <td>False</td>\n",
       "    </tr>\n",
       "    <tr>\n",
       "      <th>3</th>\n",
       "      <td>acknowledged</td>\n",
       "      <td>3.0</td>\n",
       "      <td>adjective</td>\n",
       "      <td>False</td>\n",
       "    </tr>\n",
       "    <tr>\n",
       "      <th>4</th>\n",
       "      <td>single</td>\n",
       "      <td>2.0</td>\n",
       "      <td>adjective</td>\n",
       "      <td>False</td>\n",
       "    </tr>\n",
       "  </tbody>\n",
       "</table>\n",
       "</div>"
      ],
      "text/plain": [
       "           word  syllables noun_verb_adjective  offensive\n",
       "0            It        1.0             pronoun      False\n",
       "1         truth        1.0                noun      False\n",
       "2   universally        3.0           adjective      False\n",
       "3  acknowledged        3.0           adjective      False\n",
       "4        single        2.0           adjective      False"
      ]
     },
     "execution_count": 29,
     "metadata": {},
     "output_type": "execute_result"
    }
   ],
   "source": [
    "results.head()"
   ]
  },
  {
   "cell_type": "markdown",
   "metadata": {},
   "source": [
    "## Data Visualisations"
   ]
  },
  {
   "cell_type": "markdown",
   "metadata": {},
   "source": [
    "### Count of Number of Syllables"
   ]
  },
  {
   "cell_type": "code",
   "execution_count": 115,
   "metadata": {
    "collapsed": true
   },
   "outputs": [],
   "source": [
    "'''\n",
    "Query to group by and get the count of syllables\n",
    "'''\n",
    "conn = sqlite3.connect('p_and_p.sqlite')\n",
    "query = '''\n",
    "        SELECT COUNT(syllables) count\n",
    "        FROM words\n",
    "        GROUP BY syllables\n",
    "        '''\n",
    "sqlite_results = pd.read_sql_query(query, conn)"
   ]
  },
  {
   "cell_type": "code",
   "execution_count": 116,
   "metadata": {},
   "outputs": [
    {
     "data": {
      "text/html": [
       "<div>\n",
       "<style>\n",
       "    .dataframe thead tr:only-child th {\n",
       "        text-align: right;\n",
       "    }\n",
       "\n",
       "    .dataframe thead th {\n",
       "        text-align: left;\n",
       "    }\n",
       "\n",
       "    .dataframe tbody tr th {\n",
       "        vertical-align: top;\n",
       "    }\n",
       "</style>\n",
       "<table border=\"1\" class=\"dataframe\">\n",
       "  <thead>\n",
       "    <tr style=\"text-align: right;\">\n",
       "      <th></th>\n",
       "      <th>count</th>\n",
       "    </tr>\n",
       "  </thead>\n",
       "  <tbody>\n",
       "    <tr>\n",
       "      <th>0</th>\n",
       "      <td>0</td>\n",
       "    </tr>\n",
       "    <tr>\n",
       "      <th>1</th>\n",
       "      <td>1477</td>\n",
       "    </tr>\n",
       "    <tr>\n",
       "      <th>2</th>\n",
       "      <td>712</td>\n",
       "    </tr>\n",
       "    <tr>\n",
       "      <th>3</th>\n",
       "      <td>269</td>\n",
       "    </tr>\n",
       "    <tr>\n",
       "      <th>4</th>\n",
       "      <td>68</td>\n",
       "    </tr>\n",
       "  </tbody>\n",
       "</table>\n",
       "</div>"
      ],
      "text/plain": [
       "   count\n",
       "0      0\n",
       "1   1477\n",
       "2    712\n",
       "3    269\n",
       "4     68"
      ]
     },
     "execution_count": 116,
     "metadata": {},
     "output_type": "execute_result"
    }
   ],
   "source": [
    "sqlite_results.head()"
   ]
  },
  {
   "cell_type": "code",
   "execution_count": 117,
   "metadata": {},
   "outputs": [
    {
     "data": {
      "image/png": "[encoded data removed]",
      "text/plain": [
       "<matplotlib.figure.Figure at 0x1a26caa588>"
      ]
     },
     "metadata": {},
     "output_type": "display_data"
    }
   ],
   "source": [
    "f, ax = plt.subplots(figsize=(10,10))\n",
    "ax = plt.bar(sqlite_results.index, sqlite_results[\"count\"])\n",
    "ax = plt.xticks(rotation=90)\n",
    "f.suptitle(\"Pride and Prejudice Syllables\")\n",
    "ax = plt.xlabel(\"Number of syllables\")"
   ]
  },
  {
   "cell_type": "markdown",
   "metadata": {},
   "source": [
    "### Count of Nouns, Verbs, Adjectives and others"
   ]
  },
  {
   "cell_type": "code",
   "execution_count": 118,
   "metadata": {
    "collapsed": true
   },
   "outputs": [],
   "source": [
    "'''\n",
    "Query to get the label as well as the count of noun_verb_adjective\n",
    "from word after grouping them together and ordering them in descending order.\n",
    "'''\n",
    "conn = sqlite3.connect('p_and_p.sqlite')\n",
    "query = '''\n",
    "        SELECT noun_verb_adjective, COUNT(noun_verb_adjective) count\n",
    "        FROM words\n",
    "        GROUP BY noun_verb_adjective\n",
    "        ORDER BY COUNT(noun_verb_adjective) DESC\n",
    "        '''\n",
    "sqlite_results = pd.read_sql_query(query, conn)"
   ]
  },
  {
   "cell_type": "code",
   "execution_count": 119,
   "metadata": {},
   "outputs": [
    {
     "data": {
      "text/html": [
       "<div>\n",
       "<style>\n",
       "    .dataframe thead tr:only-child th {\n",
       "        text-align: right;\n",
       "    }\n",
       "\n",
       "    .dataframe thead th {\n",
       "        text-align: left;\n",
       "    }\n",
       "\n",
       "    .dataframe tbody tr th {\n",
       "        vertical-align: top;\n",
       "    }\n",
       "</style>\n",
       "<table border=\"1\" class=\"dataframe\">\n",
       "  <thead>\n",
       "    <tr style=\"text-align: right;\">\n",
       "      <th></th>\n",
       "      <th>noun_verb_adjective</th>\n",
       "      <th>count</th>\n",
       "    </tr>\n",
       "  </thead>\n",
       "  <tbody>\n",
       "    <tr>\n",
       "      <th>0</th>\n",
       "      <td>noun</td>\n",
       "      <td>830</td>\n",
       "    </tr>\n",
       "    <tr>\n",
       "      <th>1</th>\n",
       "      <td>verb</td>\n",
       "      <td>549</td>\n",
       "    </tr>\n",
       "    <tr>\n",
       "      <th>2</th>\n",
       "      <td>adjective</td>\n",
       "      <td>544</td>\n",
       "    </tr>\n",
       "    <tr>\n",
       "      <th>3</th>\n",
       "      <td>adverb</td>\n",
       "      <td>155</td>\n",
       "    </tr>\n",
       "    <tr>\n",
       "      <th>4</th>\n",
       "      <td>pronoun</td>\n",
       "      <td>81</td>\n",
       "    </tr>\n",
       "  </tbody>\n",
       "</table>\n",
       "</div>"
      ],
      "text/plain": [
       "  noun_verb_adjective  count\n",
       "0                noun    830\n",
       "1                verb    549\n",
       "2           adjective    544\n",
       "3              adverb    155\n",
       "4             pronoun     81"
      ]
     },
     "execution_count": 119,
     "metadata": {},
     "output_type": "execute_result"
    }
   ],
   "source": [
    "sqlite_results.head()"
   ]
  },
  {
   "cell_type": "code",
   "execution_count": 120,
   "metadata": {},
   "outputs": [
    {
     "data": {
      "text/plain": [
       "Text(0.5,0.98,'Nouns, Verbs, Adjectives')"
      ]
     },
     "execution_count": 120,
     "metadata": {},
     "output_type": "execute_result"
    },
    {
     "data": {
      "image/png": "[encoded data removed]",
      "text/plain": [
       "<matplotlib.figure.Figure at 0x111cea6a0>"
      ]
     },
     "metadata": {},
     "output_type": "display_data"
    }
   ],
   "source": [
    "f, ax = plt.subplots(figsize=(20,5))\n",
    "ax = plt.bar(sqlite_results[\"noun_verb_adjective\"], sqlite_results[\"count\"])\n",
    "ax = plt.xticks(rotation=90)\n",
    "f.suptitle(\"Nouns, Verbs, Adjectives\")\n"
   ]
  }
 ],
 "metadata": {
  "kernelspec": {
   "display_name": "Python 3",
   "language": "python",
   "name": "python3"
  },
  "language_info": {
   "codemirror_mode": {
    "name": "ipython",
    "version": 3
   },
   "file_extension": ".py",
   "mimetype": "text/x-python",
   "name": "python",
   "nbconvert_exporter": "python",
   "pygments_lexer": "ipython3",
   "version": "3.6.3"
  }
 },
 "nbformat": 4,
 "nbformat_minor": 2
}
